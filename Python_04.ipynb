{
  "nbformat": 4,
  "nbformat_minor": 0,
  "metadata": {
    "colab": {
      "name": "Python 04.ipynb",
      "provenance": [],
      "collapsed_sections": []
    },
    "kernelspec": {
      "name": "python3",
      "display_name": "Python 3"
    },
    "language_info": {
      "name": "python"
    }
  },
  "cells": [
    {
      "cell_type": "markdown",
      "source": [
        "TASK # 01: Declare 3 variables in one statement."
      ],
      "metadata": {
        "id": "EN_f2oKDEEKF"
      }
    },
    {
      "cell_type": "code",
      "source": [
        " x = \"abc\" \n",
        " y=123\n",
        " z=\"def\";"
      ],
      "metadata": {
        "id": "rS9J3S-ZEJ4Z"
      },
      "execution_count": 16,
      "outputs": []
    },
    {
      "cell_type": "markdown",
      "source": [
        "TASK # 02: Declare 5 legal & 5 illegal variable names.\n"
      ],
      "metadata": {
        "id": "3OIIo6dhEKeW"
      }
    },
    {
      "cell_type": "code",
      "source": [
        "#Legal\n",
        "a=\"letter\";\n",
        "b=\"sensitive\";\n",
        "c=\"keywords\";\n",
        "d=4;\n",
        "e=5;\n",
        "\n",
        "#Illegal  \n",
        "# for='';\n",
        "# def='';\n",
        "# if='';\n",
        "# else='';\n",
        "# while='';"
      ],
      "metadata": {
        "id": "BjNi7QaPEMGQ"
      },
      "execution_count": 17,
      "outputs": []
    },
    {
      "cell_type": "markdown",
      "source": [
        "TASK # 03: Display this in your browser\n",
        "\n",
        "a) A heading stating “Rules for naming Python variables”\n",
        "\n",
        "b) Variable names can only contain ______, ______,\n",
        "______ and ______.\n",
        "\n",
        "For example $my_1stVariable\n",
        "\n",
        "c) Variables must begin with a ______, ______ or\n",
        "_____. \n",
        "For example $name, _name or name\n",
        "\n",
        "d) Variable names are case _________\n",
        "\n",
        "e) Variable names should not be Python _________"
      ],
      "metadata": {
        "id": "rAUGiK8pEMp9"
      }
    },
    {
      "cell_type": "code",
      "source": [
        "print(\"Rules For Naming Python Variable \\n\");\n",
        "num1=\"numbers\";\n",
        "num2=\"$\";\n",
        "num3=\"_\";\n",
        "print(\"Variable names can only contain \"+num1+\", \"+ num2+\" and \"+ num3+\". For example $my_1stVariable \\n\")\n",
        "print(\"Variables must begin with a \"+a+\", \"+ num2+\" and \"+ num3+\".For example $name, _name or name \\n\")\n",
        "print(\"Variable names are case \"+b+\". \\n\")\n",
        "print(\"Variable names should not be Python \"+c+\".\\n\"  )\n"
      ],
      "metadata": {
        "colab": {
          "base_uri": "https://localhost:8080/"
        },
        "id": "AWPXyITqEPX6",
        "outputId": "1c19cd6b-ea78-48fc-e46f-0c65c9b236b5"
      },
      "execution_count": 18,
      "outputs": [
        {
          "output_type": "stream",
          "name": "stdout",
          "text": [
            "Rules For Naming Python Variable \n",
            "\n",
            "Variable names can only contain numbers, $ and _. For example $my_1stVariable \n",
            "\n",
            "Variables must begin with a letter, $ and _.For example $name, _name or name \n",
            "\n",
            "Variable names are case sensitive. \n",
            "\n",
            "Variable names should not be Python keywords.\n",
            "\n"
          ]
        }
      ]
    }
  ]
}